{
  "nbformat": 4,
  "nbformat_minor": 0,
  "metadata": {
    "colab": {
      "name": "Trab_Prat_Mod_3_bootcampML.ipynb",
      "provenance": [],
      "authorship_tag": "ABX9TyM7C5klkbZ8/oNMQSZFeLV8",
      "include_colab_link": true
    },
    "kernelspec": {
      "name": "python3",
      "display_name": "Python 3"
    }
  },
  "cells": [
    {
      "cell_type": "markdown",
      "metadata": {
        "id": "view-in-github",
        "colab_type": "text"
      },
      "source": [
        "<a href=\"https://colab.research.google.com/github/mirandoli/Jupyter-Tutoriais/blob/master/Trab_Prat_Mod_3_bootcampML.ipynb\" target=\"_parent\"><img src=\"https://colab.research.google.com/assets/colab-badge.svg\" alt=\"Open In Colab\"/></a>"
      ]
    },
    {
      "cell_type": "code",
      "metadata": {
        "id": "rrMqlSkos-aq",
        "colab_type": "code",
        "colab": {
          "base_uri": "https://localhost:8080/",
          "height": 34
        },
        "outputId": "07e20acf-ab1d-46ca-ecf8-3f2d3f4d0cd3"
      },
      "source": [
        "from sklearn import datasets\n",
        "from sklearn.decomposition import PCA\n",
        "\n",
        "iris = datasets.load_iris()\n",
        "\n",
        "X = iris.data[:, :2] # pegamos as primeiras duas features aqui. Pegue as outras se quiser.\n",
        "y = iris.target\n",
        "\n",
        "y[0] # classe do primeiro elemento\n",
        "X[:1, :] # primeiro elemento a classificar"
      ],
      "execution_count": 2,
      "outputs": [
        {
          "output_type": "execute_result",
          "data": {
            "text/plain": [
              "array([[5.1, 3.5]])"
            ]
          },
          "metadata": {
            "tags": []
          },
          "execution_count": 2
        }
      ]
    },
    {
      "cell_type": "code",
      "metadata": {
        "id": "XUMYoy9Ltg9Y",
        "colab_type": "code",
        "colab": {}
      },
      "source": [
        "# Separando os dados de treinamento e teste \n",
        "\n",
        "from sklearn.model_selection import train_test_split\n",
        "\n",
        "X_train, X_test, y_train, y_test = train_test_split(X, y, test_size=0.33, random_state=42)"
      ],
      "execution_count": 3,
      "outputs": []
    },
    {
      "cell_type": "markdown",
      "metadata": {
        "id": "tXJcCLHUyerR",
        "colab_type": "text"
      },
      "source": [
        "**1º CLASSIFICADOR: RANDOM FOREST**"
      ]
    },
    {
      "cell_type": "code",
      "metadata": {
        "id": "r52xq1Qpx6Pi",
        "colab_type": "code",
        "colab": {}
      },
      "source": [
        "from sklearn.ensemble import RandomForestClassifier\n",
        "\n",
        "# Instanciado a Random Forest\n",
        "rfc = RandomForestClassifier()\n",
        "\n",
        "# Realizando o treinamento\n",
        "rfc.fit(X_train, y_train)\n",
        "\n",
        "# Realizando a predição\n",
        "y_pred = rfc.predict(X_test)\n"
      ],
      "execution_count": 5,
      "outputs": []
    },
    {
      "cell_type": "code",
      "metadata": {
        "id": "KI_Z0EPazVbV",
        "colab_type": "code",
        "colab": {
          "base_uri": "https://localhost:8080/",
          "height": 69
        },
        "outputId": "11db63d2-3ab7-4754-a089-060f860c82bf"
      },
      "source": [
        "# Métricas do Random Forest\n",
        "\n",
        "from sklearn.metrics import accuracy_score, recall_score, precision_score\n",
        "\n",
        "rfc_acc = round(accuracy_score(y_test, y_pred), 6)\n",
        "rfc_recall = round(recall_score(y_test, y_pred, average='weighted'), 6)\n",
        "rfc_precision = round(precision_score(y_test, y_pred, average='weighted'), 6)\n",
        "\n",
        "print('Acurácia rfc: {}'.format(rfc_acc))\n",
        "print('Recall rfc: {}'.format(rfc_recall))\n",
        "print('Precisão rfc: {}'.format(rfc_precision))"
      ],
      "execution_count": 7,
      "outputs": [
        {
          "output_type": "stream",
          "text": [
            "Acurácia rfc: 0.78\n",
            "Recall rfc: 0.78\n",
            "Precisão rfc: 0.782105\n"
          ],
          "name": "stdout"
        }
      ]
    },
    {
      "cell_type": "markdown",
      "metadata": {
        "id": "2O0zquQ-06xs",
        "colab_type": "text"
      },
      "source": [
        "**2º CLASSIFICADOR: KNN**"
      ]
    },
    {
      "cell_type": "code",
      "metadata": {
        "id": "dqK--rL_05t5",
        "colab_type": "code",
        "colab": {}
      },
      "source": [
        "from sklearn.neighbors import KNeighborsClassifier\n",
        "\n",
        "# Instanciando o classificador\n",
        "knn = KNeighborsClassifier(n_neighbors=3)\n",
        "\n",
        "# Treinando \n",
        "knn.fit(X_train, y_train)\n",
        "\n",
        "# Realizando a previsão\n",
        "y_pred = knn.predict(X_test)"
      ],
      "execution_count": 8,
      "outputs": []
    },
    {
      "cell_type": "code",
      "metadata": {
        "id": "JDiuRA0812F0",
        "colab_type": "code",
        "colab": {
          "base_uri": "https://localhost:8080/",
          "height": 69
        },
        "outputId": "2a8d65d1-cba6-4296-e090-829a0cb22135"
      },
      "source": [
        "# Métricas do KNN\n",
        "\n",
        "knn_acc = round(accuracy_score(y_test, y_pred), 6)\n",
        "knn_recall = round(recall_score(y_test, y_pred, average='weighted'), 6)\n",
        "knn_precision = round(precision_score(y_test, y_pred, average='weighted'), 6)\n",
        "\n",
        "print('Acurácia KNN: {}'.format(knn_acc))\n",
        "print('Recall KNN: {}'.format(knn_recall))\n",
        "print('Precisão KNN: {}'.format(knn_precision))"
      ],
      "execution_count": 9,
      "outputs": [
        {
          "output_type": "stream",
          "text": [
            "Acurácia KNN: 0.76\n",
            "Recall KNN: 0.76\n",
            "Precisão KNN: 0.760171\n"
          ],
          "name": "stdout"
        }
      ]
    }
  ]
}